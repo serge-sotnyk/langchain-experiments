{
 "cells": [
  {
   "cell_type": "markdown",
   "source": [
    "# Output Parsing"
   ],
   "metadata": {
    "collapsed": false
   },
   "id": "49582f439cf93b3e"
  },
  {
   "cell_type": "markdown",
   "source": [
    "## Converting Messages"
   ],
   "metadata": {
    "collapsed": false
   },
   "id": "9d15ae223c3f1cd8"
  },
  {
   "cell_type": "code",
   "execution_count": 1,
   "id": "initial_id",
   "metadata": {
    "collapsed": true,
    "ExecuteTime": {
     "end_time": "2024-01-29T16:48:04.227289300Z",
     "start_time": "2024-01-29T16:48:03.135539500Z"
    }
   },
   "outputs": [],
   "source": [
    "from langchain_openai import ChatOpenAI\n",
    "from langchain_core.prompts import ChatPromptTemplate"
   ]
  },
  {
   "cell_type": "code",
   "outputs": [],
   "source": [
    "prompt = ChatPromptTemplate.from_template(\"Tell me a joke about {topic}\")\n",
    "model = ChatOpenAI()"
   ],
   "metadata": {
    "collapsed": false,
    "ExecuteTime": {
     "end_time": "2024-01-29T16:48:15.091544300Z",
     "start_time": "2024-01-29T16:48:14.128119800Z"
    }
   },
   "id": "10715c590254f47",
   "execution_count": 2
  },
  {
   "cell_type": "code",
   "outputs": [],
   "source": [
    "chain = prompt | model"
   ],
   "metadata": {
    "collapsed": false,
    "ExecuteTime": {
     "end_time": "2024-01-29T16:48:23.024964100Z",
     "start_time": "2024-01-29T16:48:23.015059900Z"
    }
   },
   "id": "33844f0dab8dbbc9",
   "execution_count": 3
  },
  {
   "cell_type": "code",
   "outputs": [
    {
     "data": {
      "text/plain": "AIMessage(content=\"Why don't bears wear shoes?\\n\\nBecause they have bear feet!\")"
     },
     "execution_count": 4,
     "metadata": {},
     "output_type": "execute_result"
    }
   ],
   "source": [
    "chain.invoke({\"topic\": \"bears\"})"
   ],
   "metadata": {
    "collapsed": false,
    "ExecuteTime": {
     "end_time": "2024-01-29T16:48:33.583722700Z",
     "start_time": "2024-01-29T16:48:32.710683400Z"
    }
   },
   "id": "dc4cea7a867461b7",
   "execution_count": 4
  },
  {
   "cell_type": "code",
   "outputs": [],
   "source": [
    "from langchain_core.output_parsers import StrOutputParser\n",
    "\n",
    "parser = StrOutputParser()\n",
    "chain = prompt | model | parser"
   ],
   "metadata": {
    "collapsed": false,
    "ExecuteTime": {
     "end_time": "2024-01-29T16:48:48.756368500Z",
     "start_time": "2024-01-29T16:48:48.742891500Z"
    }
   },
   "id": "c102e6203ece3898",
   "execution_count": 5
  },
  {
   "cell_type": "code",
   "outputs": [
    {
     "data": {
      "text/plain": "\"Why don't bears wear shoes? \\n\\nBecause they already have bear feet!\""
     },
     "execution_count": 6,
     "metadata": {},
     "output_type": "execute_result"
    }
   ],
   "source": [
    "chain.invoke({\"topic\": \"bears\"})"
   ],
   "metadata": {
    "collapsed": false,
    "ExecuteTime": {
     "end_time": "2024-01-29T16:48:59.703707500Z",
     "start_time": "2024-01-29T16:48:58.473613500Z"
    }
   },
   "id": "7ee37537e8c93207",
   "execution_count": 6
  },
  {
   "cell_type": "markdown",
   "source": [
    "## OpenAI Function Calling"
   ],
   "metadata": {
    "collapsed": false
   },
   "id": "dcfa8b84942081ea"
  },
  {
   "cell_type": "code",
   "outputs": [],
   "source": [
    "from langchain_core.utils.function_calling import (\n",
    "    convert_to_openai_function,\n",
    ")\n",
    "from langchain_core.prompts import ChatPromptTemplate\n",
    "from langchain_core.pydantic_v1 import BaseModel, Field, validator"
   ],
   "metadata": {
    "collapsed": false,
    "ExecuteTime": {
     "end_time": "2024-01-29T16:50:41.538140800Z",
     "start_time": "2024-01-29T16:50:41.522854900Z"
    }
   },
   "id": "5143c845816e663",
   "execution_count": 9
  },
  {
   "cell_type": "code",
   "outputs": [],
   "source": [
    "class Joke(BaseModel):\n",
    "    \"\"\"Joke to tell user.\"\"\"\n",
    "\n",
    "    setup: str = Field(description=\"question to set up a joke\")\n",
    "    punchline: str = Field(description=\"answer to resolve the joke\")\n",
    "\n",
    "\n",
    "openai_functions = [convert_to_openai_function(Joke)]"
   ],
   "metadata": {
    "collapsed": false,
    "ExecuteTime": {
     "end_time": "2024-01-29T16:50:52.294434900Z",
     "start_time": "2024-01-29T16:50:52.272532700Z"
    }
   },
   "id": "3023dec72403c60f",
   "execution_count": 10
  },
  {
   "cell_type": "code",
   "outputs": [],
   "source": [
    "from langchain.output_parsers.openai_functions import JsonOutputFunctionsParser"
   ],
   "metadata": {
    "collapsed": false,
    "ExecuteTime": {
     "end_time": "2024-01-29T16:51:13.501129200Z",
     "start_time": "2024-01-29T16:51:13.456486Z"
    }
   },
   "id": "4851b02f96a5737a",
   "execution_count": 11
  },
  {
   "cell_type": "code",
   "outputs": [],
   "source": [
    "parser = JsonOutputFunctionsParser()"
   ],
   "metadata": {
    "collapsed": false,
    "ExecuteTime": {
     "end_time": "2024-01-29T16:51:20.582360Z",
     "start_time": "2024-01-29T16:51:20.556349800Z"
    }
   },
   "id": "2659343806511d2a",
   "execution_count": 12
  },
  {
   "cell_type": "code",
   "outputs": [],
   "source": [
    "chain = prompt | model.bind(functions=openai_functions) | parser"
   ],
   "metadata": {
    "collapsed": false,
    "ExecuteTime": {
     "end_time": "2024-01-29T16:51:27.577831400Z",
     "start_time": "2024-01-29T16:51:27.506019200Z"
    }
   },
   "id": "35916a16aca839b",
   "execution_count": 13
  },
  {
   "cell_type": "code",
   "outputs": [
    {
     "data": {
      "text/plain": "{'setup': \"Why don't bears like fast food?\",\n 'punchline': \"Because they can't catch it!\"}"
     },
     "execution_count": 14,
     "metadata": {},
     "output_type": "execute_result"
    }
   ],
   "source": [
    "chain.invoke({\"topic\": \"bears\"})"
   ],
   "metadata": {
    "collapsed": false,
    "ExecuteTime": {
     "end_time": "2024-01-29T16:51:36.898810900Z",
     "start_time": "2024-01-29T16:51:35.599369200Z"
    }
   },
   "id": "b48c8c79dc4478c8",
   "execution_count": 14
  },
  {
   "cell_type": "markdown",
   "source": [
    "## Streaming"
   ],
   "metadata": {
    "collapsed": false
   },
   "id": "282b890f3c871601"
  },
  {
   "cell_type": "code",
   "outputs": [
    {
     "name": "stdout",
     "output_type": "stream",
     "text": [
      "{}\n",
      "{'setup': ''}\n",
      "{'setup': 'Why'}\n",
      "{'setup': 'Why don'}\n",
      "{'setup': \"Why don't\"}\n",
      "{'setup': \"Why don't scientists\"}\n",
      "{'setup': \"Why don't scientists trust\"}\n",
      "{'setup': \"Why don't scientists trust atoms\"}\n",
      "{'setup': \"Why don't scientists trust atoms?\"}\n",
      "{'setup': \"Why don't scientists trust atoms?\", 'punchline': ''}\n",
      "{'setup': \"Why don't scientists trust atoms?\", 'punchline': 'Because'}\n",
      "{'setup': \"Why don't scientists trust atoms?\", 'punchline': 'Because they'}\n",
      "{'setup': \"Why don't scientists trust atoms?\", 'punchline': 'Because they make'}\n",
      "{'setup': \"Why don't scientists trust atoms?\", 'punchline': 'Because they make up'}\n",
      "{'setup': \"Why don't scientists trust atoms?\", 'punchline': 'Because they make up everything'}\n",
      "{'setup': \"Why don't scientists trust atoms?\", 'punchline': 'Because they make up everything!'}\n"
     ]
    }
   ],
   "source": [
    "for s in chain.stream({\"topic\": \"bars\"}):\n",
    "    print(s)"
   ],
   "metadata": {
    "collapsed": false,
    "ExecuteTime": {
     "end_time": "2024-01-29T16:51:59.353546800Z",
     "start_time": "2024-01-29T16:51:58.093207900Z"
    }
   },
   "id": "ded5401f054a25fd",
   "execution_count": 15
  },
  {
   "cell_type": "code",
   "outputs": [],
   "source": [],
   "metadata": {
    "collapsed": false
   },
   "id": "97461785b168df74"
  }
 ],
 "metadata": {
  "kernelspec": {
   "display_name": "Python 3",
   "language": "python",
   "name": "python3"
  },
  "language_info": {
   "codemirror_mode": {
    "name": "ipython",
    "version": 2
   },
   "file_extension": ".py",
   "mimetype": "text/x-python",
   "name": "python",
   "nbconvert_exporter": "python",
   "pygments_lexer": "ipython2",
   "version": "2.7.6"
  }
 },
 "nbformat": 4,
 "nbformat_minor": 5
}
